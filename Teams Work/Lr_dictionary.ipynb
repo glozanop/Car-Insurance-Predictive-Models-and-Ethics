{
  "nbformat": 4,
  "nbformat_minor": 0,
  "metadata": {
    "colab": {
      "provenance": []
    },
    "kernelspec": {
      "name": "python3",
      "display_name": "Python 3"
    },
    "language_info": {
      "name": "python"
    }
  },
  "cells": [
    {
      "cell_type": "code",
      "execution_count": null,
      "metadata": {
        "id": "dVus3GHkYkaj"
      },
      "outputs": [],
      "source": [
        "# Suppose cust is a dict of your features, e.g.\n",
        "cust = {\"age\": 45, \"income\": 120_000}\n",
        "\n",
        "# 1) Compute raw logit (“risk score”) and probability\n",
        "import numpy as np\n",
        "\n",
        "# turn cust into array in the same feature order you trained on:\n",
        "feature_names = [\"age\", \"income\"]\n",
        "X_vec = np.array([cust[f] for f in feature_names]).reshape(1, -1)\n",
        "\n",
        "# raw logit (decision function)\n",
        "risk_score = float(log_reg_model.decision_function(X_vec)[0])\n",
        "\n",
        "# probability of “default” (positive class)\n",
        "prob_default = float(log_reg_model.predict_proba(X_vec)[0, 1])\n",
        "\n",
        "# 2) Pull out coefficients + intercept\n",
        "intercept = float(log_reg_model.intercept_[0])\n",
        "coefs = {f\"coef_{feat}\": float(c)\n",
        "         for feat, c in zip(feature_names, log_reg_model.coef_[0])}\n",
        "\n",
        "# 3) Assemble into your output dict\n",
        "lr_output = {\n",
        "    \"risk_score\": risk_score,\n",
        "    \"prob_default\": prob_default,\n",
        "    \"intercept\": intercept,\n",
        "    **coefs\n",
        "}\n",
        "\n",
        "print(lr_output)"
      ]
    }
  ]
}